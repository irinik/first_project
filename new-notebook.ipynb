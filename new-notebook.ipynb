{
 "cells": [
  {
   "cell_type": "markdown",
   "id": "c2f1ee70",
   "metadata": {},
   "source": [
    "new notebook for training"
   ]
  },
  {
   "cell_type": "code",
   "execution_count": 3,
   "id": "1ee97c2f",
   "metadata": {},
   "outputs": [],
   "source": [
    "b = 7\n",
    "a = b + 7"
   ]
  },
  {
   "cell_type": "code",
   "execution_count": 4,
   "id": "0c083139",
   "metadata": {},
   "outputs": [
    {
     "name": "stdout",
     "output_type": "stream",
     "text": [
      "7 14\n"
     ]
    }
   ],
   "source": [
    "print (b, a)"
   ]
  },
  {
   "cell_type": "code",
   "execution_count": null,
   "id": "9575f16e",
   "metadata": {},
   "outputs": [],
   "source": []
  },
  {
   "cell_type": "code",
   "execution_count": null,
   "id": "0b59d427",
   "metadata": {},
   "outputs": [],
   "source": []
  },
  {
   "cell_type": "code",
   "execution_count": null,
   "id": "31dbaac0",
   "metadata": {},
   "outputs": [],
   "source": []
  }
 ],
 "metadata": {
  "kernelspec": {
   "display_name": "Python 3 (ipykernel)",
   "language": "python",
   "name": "python3"
  },
  "language_info": {
   "codemirror_mode": {
    "name": "ipython",
    "version": 3
   },
   "file_extension": ".py",
   "mimetype": "text/x-python",
   "name": "python",
   "nbconvert_exporter": "python",
   "pygments_lexer": "ipython3",
   "version": "3.9.13"
  }
 },
 "nbformat": 4,
 "nbformat_minor": 5
}
